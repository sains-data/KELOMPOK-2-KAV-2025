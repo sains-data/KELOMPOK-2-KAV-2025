{
  "nbformat": 4,
  "nbformat_minor": 0,
  "metadata": {
    "colab": {
      "provenance": []
    },
    "kernelspec": {
      "name": "python3",
      "display_name": "Python 3"
    },
    "language_info": {
      "name": "python"
    }
  },
  "cells": [
    {
      "cell_type": "code",
      "execution_count": 1,
      "metadata": {
        "id": "kERM5cvobF6h"
      },
      "outputs": [],
      "source": [
        "import matplotlib.pyplot as plt\n",
        "import numpy as np\n",
        "import soundfile as sf\n",
        "import scipy.signal as signal"
      ]
    },
    {
      "cell_type": "code",
      "source": [
        "import soundfile as sf\n",
        "import numpy as np\n",
        "\n",
        "def load_audio(file_path, target_sr=16000):\n",
        "    \"\"\"\n",
        "    Membaca file audio batuk dari dataset Kaggle\n",
        "    Parameters:\n",
        "        file_path (str): Path ke file audio .wav\n",
        "        target_sr (int): Sample rate target (default 16kHz untuk standar analisis)\n",
        "    Returns:\n",
        "        data (np.array): Data audio 1D (mono)\n",
        "        sr (int): Sample rate\n",
        "    \"\"\"\n",
        "    # Baca file dengan soundfile\n",
        "    data, sr = sf.read(file_path)\n",
        "\n",
        "    # Jika stereo, konversi ke mono dengan rata-rata channel\n",
        "    if data.ndim > 1:\n",
        "        data = np.mean(data, axis=1)\n",
        "\n",
        "    # Jika sample rate berbeda dari target, lakukan resampling manual\n",
        "    if sr != target_sr:\n",
        "        import librosa\n",
        "        data = librosa.resample(data, orig_sr=sr, target_sr=target_sr)\n",
        "        sr = target_sr\n",
        "\n",
        "    return data, sr\n"
      ],
      "metadata": {
        "id": "FdkLF5gibGxM"
      },
      "execution_count": 2,
      "outputs": []
    },
    {
      "cell_type": "code",
      "source": [
        "import numpy as np\n",
        "import matplotlib.pyplot as plt\n",
        "\n",
        "def create_waveplot_manual(data, sr, label):\n",
        "    \"\"\"\n",
        "    Membuat waveplot audio batuk tanpa menggunakan librosa\n",
        "    Parameters:\n",
        "        data (np.array): Data audio\n",
        "        sr (int): Sample rate\n",
        "        label (str): Label (misalnya 'positive' / 'negative')\n",
        "    \"\"\"\n",
        "    # Hitung array waktu\n",
        "    duration = len(data) / sr\n",
        "    time = np.linspace(0, duration, len(data))\n",
        "\n",
        "    # Buat plot\n",
        "    plt.figure(figsize=(10, 3))\n",
        "    plt.plot(time, data, linewidth=0.5)\n",
        "    plt.title(f'Waveplot for cough audio [{label}]', size=15)\n",
        "    plt.xlabel('Time (s)')\n",
        "    plt.ylabel('Amplitude')\n",
        "    plt.grid(True, alpha=0.3)\n",
        "    plt.tight_layout()\n",
        "    plt.show()\n"
      ],
      "metadata": {
        "id": "gvS6g_G2bK95"
      },
      "execution_count": 3,
      "outputs": []
    },
    {
      "cell_type": "code",
      "source": [
        "import numpy as np\n",
        "\n",
        "# Implementasi STFT Manual\n",
        "def manual_stft(data, window_length=2048, hop_length=512, window='hann'):\n",
        "    \"\"\"\n",
        "    Implementasi manual Short-Time Fourier Transform (STFT)\n",
        "    untuk sinyal audio batuk dari dataset COVID-19.\n",
        "\n",
        "    Parameters:\n",
        "        data (np.array): Sinyal audio (1D array)\n",
        "        window_length (int): Panjang window untuk STFT (default: 2048)\n",
        "        hop_length (int): Jumlah sampel pergeseran antar frame (default: 512)\n",
        "        window (str): Jenis window function ('hann', 'hamming', atau 'rectangular')\n",
        "\n",
        "    Returns:\n",
        "        stft_matrix (np.array): Matriks STFT (kompleks), shape: [freq_bins, time_frames]\n",
        "    \"\"\"\n",
        "    # Buat window function\n",
        "    if window == 'hann':\n",
        "        w = np.hanning(window_length)\n",
        "    elif window == 'hamming':\n",
        "        w = np.hamming(window_length)\n",
        "    else:\n",
        "        w = np.ones(window_length)  # rectangular window\n",
        "\n",
        "    # Hitung jumlah frame\n",
        "    num_frames = 1 + (len(data) - window_length) // hop_length\n",
        "\n",
        "    # Inisialisasi matrix STFT\n",
        "    stft_matrix = np.zeros((window_length // 2 + 1, num_frames), dtype=complex)\n",
        "\n",
        "    # Hitung STFT untuk setiap frame\n",
        "    for frame in range(num_frames):\n",
        "        start = frame * hop_length\n",
        "        end = start + window_length\n",
        "\n",
        "        # Ambil segmen data dan aplikasikan window\n",
        "        if end <= len(data):\n",
        "            segment = data[start:end] * w\n",
        "        else:\n",
        "            # Zero padding jika panjang data kurang\n",
        "            segment = np.zeros(window_length)\n",
        "            remaining = len(data) - start\n",
        "            segment[:remaining] = data[start:] * w[:remaining]\n",
        "\n",
        "        # Hitung FFT\n",
        "        fft_result = np.fft.fft(segment)\n",
        "\n",
        "        # Ambil setengah spektrum (karena simetri FFT real-valued signals)\n",
        "        stft_matrix[:, frame] = fft_result[:window_length // 2 + 1]\n",
        "\n",
        "    return stft_matrix\n"
      ],
      "metadata": {
        "id": "NAnUxszVbLw9"
      },
      "execution_count": 4,
      "outputs": []
    },
    {
      "cell_type": "code",
      "source": [
        "import matplotlib.pyplot as plt\n",
        "import numpy as np\n",
        "import scipy.signal as signal\n",
        "\n",
        "def create_spectrogram_scipy(data, sr, label, nperseg=2048, noverlap=1536):\n",
        "    \"\"\"\n",
        "    Membuat spectrogram audio batuk menggunakan scipy.signal sebagai alternatif librosa\n",
        "\n",
        "    Parameters:\n",
        "        data (np.array): Data audio batuk\n",
        "        sr (int): Sample rate\n",
        "        label (str): Label (misalnya 'positive' atau 'negative')\n",
        "        nperseg (int): Panjang setiap segmen FFT (default 2048)\n",
        "        noverlap (int): Jumlah point overlap antara segmen (default 1536)\n",
        "    \"\"\"\n",
        "    # Hitung spectrogram\n",
        "    frequencies, times, Sxx = signal.spectrogram(\n",
        "        data, sr, nperseg=nperseg, noverlap=noverlap\n",
        "    )\n",
        "\n",
        "    # Konversi ke dB (hindari log(0) dengan epsilon kecil)\n",
        "    Sxx_db = 10 * np.log10(Sxx + 1e-8)\n",
        "\n",
        "    # Plot\n",
        "    plt.figure(figsize=(12, 3))\n",
        "    plt.pcolormesh(times, frequencies, Sxx_db, shading='gouraud')\n",
        "    plt.title(f'Spectrogram for cough audio [{label}]', size=15)\n",
        "    plt.xlabel('Time (s)')\n",
        "    plt.ylabel('Frequency (Hz)')\n",
        "    plt.colorbar(label='Power/Frequency (dB/Hz)')\n",
        "    plt.tight_layout()\n",
        "    plt.show()\n"
      ],
      "metadata": {
        "id": "4pB8G7S9bOA9"
      },
      "execution_count": 5,
      "outputs": []
    },
    {
      "cell_type": "code",
      "source": [
        "# Install kaggle API\n",
        "!pip install kaggle --quiet"
      ],
      "metadata": {
        "id": "ai7FaIIfb8-m"
      },
      "execution_count": 6,
      "outputs": []
    },
    {
      "cell_type": "code",
      "source": [
        "import os\n",
        "\n",
        "# Setup kaggle credentials untuk environment lokal\n",
        "# Path folder kaggle.json (sudah kamu taruh di /content/.kaggle/)\n",
        "kaggle_dir = \"/content/.kaggle/\"\n",
        "kaggle_file = os.path.join(kaggle_dir, \"kaggle.json\")\n",
        "\n",
        "# Buat direktori .kaggle jika belum ada\n",
        "os.makedirs(kaggle_dir, exist_ok=True)\n",
        "\n",
        "# Cek apakah kaggle.json sudah ada di /content/.kaggle/\n",
        "if os.path.exists(kaggle_file):\n",
        "    print(\"kaggle.json found in /content/.kaggle/!\")\n",
        "    # Set permission yang benar\n",
        "    os.chmod(kaggle_file, 0o600)\n",
        "    print(\"Kaggle credentials configured successfully\")\n",
        "else:\n",
        "    print(\"kaggle.json not found in /content/.kaggle/\")\n",
        "    print(f\"Please upload your kaggle.json file to: {kaggle_dir}\")\n",
        "    print(\"You can download it from: https://www.kaggle.com/settings -> Create API Token\")"
      ],
      "metadata": {
        "colab": {
          "base_uri": "https://localhost:8080/"
        },
        "id": "fBPc_IkKcAGr",
        "outputId": "069232e6-d250-444c-cea8-fec77e8738d1"
      },
      "execution_count": 7,
      "outputs": [
        {
          "output_type": "stream",
          "name": "stdout",
          "text": [
            "kaggle.json not found in /content/.kaggle/\n",
            "Please upload your kaggle.json file to: /content/.kaggle/\n",
            "You can download it from: https://www.kaggle.com/settings -> Create API Token\n"
          ]
        }
      ]
    },
    {
      "cell_type": "code",
      "source": [
        "# Jika menggunakan Colab Google\n",
        "# Pastikan folder .kaggle ada\n",
        "os.makedirs(os.path.expanduser(\"~/.kaggle\"), exist_ok=True)\n",
        "# Upload kaggle.json (hanya jika di Colab/lokal, kalau di Kaggle Notebook sudah otomatis)\n",
        "from google.colab import files\n",
        "files.upload() # pilih kaggle.json\n",
        "# Pindahkan kaggle.json ke folder yang benar\n",
        "!mv kaggle.json ~/.kaggle/\n",
        "!chmod 600 ~/.kaggle/kaggle.json"
      ],
      "metadata": {
        "colab": {
          "base_uri": "https://localhost:8080/",
          "height": 74
        },
        "id": "RxERcWKVcYNT",
        "outputId": "597a5e15-7fea-4848-f554-96520510f3c9"
      },
      "execution_count": 8,
      "outputs": [
        {
          "output_type": "display_data",
          "data": {
            "text/plain": [
              "<IPython.core.display.HTML object>"
            ],
            "text/html": [
              "\n",
              "     <input type=\"file\" id=\"files-543d1f1d-6abf-40f5-afad-ce32076bf8a7\" name=\"files[]\" multiple disabled\n",
              "        style=\"border:none\" />\n",
              "     <output id=\"result-543d1f1d-6abf-40f5-afad-ce32076bf8a7\">\n",
              "      Upload widget is only available when the cell has been executed in the\n",
              "      current browser session. Please rerun this cell to enable.\n",
              "      </output>\n",
              "      <script>// Copyright 2017 Google LLC\n",
              "//\n",
              "// Licensed under the Apache License, Version 2.0 (the \"License\");\n",
              "// you may not use this file except in compliance with the License.\n",
              "// You may obtain a copy of the License at\n",
              "//\n",
              "//      http://www.apache.org/licenses/LICENSE-2.0\n",
              "//\n",
              "// Unless required by applicable law or agreed to in writing, software\n",
              "// distributed under the License is distributed on an \"AS IS\" BASIS,\n",
              "// WITHOUT WARRANTIES OR CONDITIONS OF ANY KIND, either express or implied.\n",
              "// See the License for the specific language governing permissions and\n",
              "// limitations under the License.\n",
              "\n",
              "/**\n",
              " * @fileoverview Helpers for google.colab Python module.\n",
              " */\n",
              "(function(scope) {\n",
              "function span(text, styleAttributes = {}) {\n",
              "  const element = document.createElement('span');\n",
              "  element.textContent = text;\n",
              "  for (const key of Object.keys(styleAttributes)) {\n",
              "    element.style[key] = styleAttributes[key];\n",
              "  }\n",
              "  return element;\n",
              "}\n",
              "\n",
              "// Max number of bytes which will be uploaded at a time.\n",
              "const MAX_PAYLOAD_SIZE = 100 * 1024;\n",
              "\n",
              "function _uploadFiles(inputId, outputId) {\n",
              "  const steps = uploadFilesStep(inputId, outputId);\n",
              "  const outputElement = document.getElementById(outputId);\n",
              "  // Cache steps on the outputElement to make it available for the next call\n",
              "  // to uploadFilesContinue from Python.\n",
              "  outputElement.steps = steps;\n",
              "\n",
              "  return _uploadFilesContinue(outputId);\n",
              "}\n",
              "\n",
              "// This is roughly an async generator (not supported in the browser yet),\n",
              "// where there are multiple asynchronous steps and the Python side is going\n",
              "// to poll for completion of each step.\n",
              "// This uses a Promise to block the python side on completion of each step,\n",
              "// then passes the result of the previous step as the input to the next step.\n",
              "function _uploadFilesContinue(outputId) {\n",
              "  const outputElement = document.getElementById(outputId);\n",
              "  const steps = outputElement.steps;\n",
              "\n",
              "  const next = steps.next(outputElement.lastPromiseValue);\n",
              "  return Promise.resolve(next.value.promise).then((value) => {\n",
              "    // Cache the last promise value to make it available to the next\n",
              "    // step of the generator.\n",
              "    outputElement.lastPromiseValue = value;\n",
              "    return next.value.response;\n",
              "  });\n",
              "}\n",
              "\n",
              "/**\n",
              " * Generator function which is called between each async step of the upload\n",
              " * process.\n",
              " * @param {string} inputId Element ID of the input file picker element.\n",
              " * @param {string} outputId Element ID of the output display.\n",
              " * @return {!Iterable<!Object>} Iterable of next steps.\n",
              " */\n",
              "function* uploadFilesStep(inputId, outputId) {\n",
              "  const inputElement = document.getElementById(inputId);\n",
              "  inputElement.disabled = false;\n",
              "\n",
              "  const outputElement = document.getElementById(outputId);\n",
              "  outputElement.innerHTML = '';\n",
              "\n",
              "  const pickedPromise = new Promise((resolve) => {\n",
              "    inputElement.addEventListener('change', (e) => {\n",
              "      resolve(e.target.files);\n",
              "    });\n",
              "  });\n",
              "\n",
              "  const cancel = document.createElement('button');\n",
              "  inputElement.parentElement.appendChild(cancel);\n",
              "  cancel.textContent = 'Cancel upload';\n",
              "  const cancelPromise = new Promise((resolve) => {\n",
              "    cancel.onclick = () => {\n",
              "      resolve(null);\n",
              "    };\n",
              "  });\n",
              "\n",
              "  // Wait for the user to pick the files.\n",
              "  const files = yield {\n",
              "    promise: Promise.race([pickedPromise, cancelPromise]),\n",
              "    response: {\n",
              "      action: 'starting',\n",
              "    }\n",
              "  };\n",
              "\n",
              "  cancel.remove();\n",
              "\n",
              "  // Disable the input element since further picks are not allowed.\n",
              "  inputElement.disabled = true;\n",
              "\n",
              "  if (!files) {\n",
              "    return {\n",
              "      response: {\n",
              "        action: 'complete',\n",
              "      }\n",
              "    };\n",
              "  }\n",
              "\n",
              "  for (const file of files) {\n",
              "    const li = document.createElement('li');\n",
              "    li.append(span(file.name, {fontWeight: 'bold'}));\n",
              "    li.append(span(\n",
              "        `(${file.type || 'n/a'}) - ${file.size} bytes, ` +\n",
              "        `last modified: ${\n",
              "            file.lastModifiedDate ? file.lastModifiedDate.toLocaleDateString() :\n",
              "                                    'n/a'} - `));\n",
              "    const percent = span('0% done');\n",
              "    li.appendChild(percent);\n",
              "\n",
              "    outputElement.appendChild(li);\n",
              "\n",
              "    const fileDataPromise = new Promise((resolve) => {\n",
              "      const reader = new FileReader();\n",
              "      reader.onload = (e) => {\n",
              "        resolve(e.target.result);\n",
              "      };\n",
              "      reader.readAsArrayBuffer(file);\n",
              "    });\n",
              "    // Wait for the data to be ready.\n",
              "    let fileData = yield {\n",
              "      promise: fileDataPromise,\n",
              "      response: {\n",
              "        action: 'continue',\n",
              "      }\n",
              "    };\n",
              "\n",
              "    // Use a chunked sending to avoid message size limits. See b/62115660.\n",
              "    let position = 0;\n",
              "    do {\n",
              "      const length = Math.min(fileData.byteLength - position, MAX_PAYLOAD_SIZE);\n",
              "      const chunk = new Uint8Array(fileData, position, length);\n",
              "      position += length;\n",
              "\n",
              "      const base64 = btoa(String.fromCharCode.apply(null, chunk));\n",
              "      yield {\n",
              "        response: {\n",
              "          action: 'append',\n",
              "          file: file.name,\n",
              "          data: base64,\n",
              "        },\n",
              "      };\n",
              "\n",
              "      let percentDone = fileData.byteLength === 0 ?\n",
              "          100 :\n",
              "          Math.round((position / fileData.byteLength) * 100);\n",
              "      percent.textContent = `${percentDone}% done`;\n",
              "\n",
              "    } while (position < fileData.byteLength);\n",
              "  }\n",
              "\n",
              "  // All done.\n",
              "  yield {\n",
              "    response: {\n",
              "      action: 'complete',\n",
              "    }\n",
              "  };\n",
              "}\n",
              "\n",
              "scope.google = scope.google || {};\n",
              "scope.google.colab = scope.google.colab || {};\n",
              "scope.google.colab._files = {\n",
              "  _uploadFiles,\n",
              "  _uploadFilesContinue,\n",
              "};\n",
              "})(self);\n",
              "</script> "
            ]
          },
          "metadata": {}
        },
        {
          "output_type": "stream",
          "name": "stdout",
          "text": [
            "Saving kaggle.json to kaggle.json\n"
          ]
        }
      ]
    },
    {
      "cell_type": "code",
      "source": [
        "# === Download dataset Covid-19 Cough ===\n",
        "!kaggle datasets download -d andrewmvd/covid19-cough-audio-classification -p ./datasets\n",
        "!unzip -qo ./datasets/covid19-cough-audio-classification.zip -d ./datasets/Cough\n",
        "\n",
        "Cough_metadata = \"./datasets/Cough/metadata_compiled.csv\"\n",
        "\n",
        "extracted_files = os.listdir(\"./datasets/Cough/\")\n",
        "audio_folder_name = None\n",
        "for item in extracted_files:\n",
        "    if os.path.isdir(os.path.join(\"./datasets/Cough/\", item)) and \"Cough_Soundfiles\" in item:\n",
        "        audio_folder_name = item\n",
        "        break\n",
        "\n",
        "if audio_folder_name:\n",
        "    Cough_audio = os.path.join(\"./datasets/Cough/\", audio_folder_name)\n",
        "else:\n",
        "\n",
        "    Cough_audio = \"./datasets/Cough/\"\n",
        "    print(\"Warning: 'Cough_Soundfiles' folder not found. Assuming audio files are directly in ./datasets/Cough/\")\n",
        "\n",
        "\n",
        "\n",
        "print(\"Metadata file:\", Cough_metadata)\n",
        "print(\"Folder audio:\", Cough_audio)\n",
        "\n",
        "\n",
        "import os\n",
        "if os.path.exists(Cough_audio):\n",
        "    print(\"Jumlah file audio:\", len(os.listdir(Cough_audio)))\n",
        "else:\n",
        "    print(f\"Error: Audio folder not found at {Cough_audio}\")"
      ],
      "metadata": {
        "colab": {
          "base_uri": "https://localhost:8080/"
        },
        "id": "-UwuQlyscjxy",
        "outputId": "306c8447-ddc3-4433-ec96-1c65c5857482"
      },
      "execution_count": 9,
      "outputs": [
        {
          "output_type": "stream",
          "name": "stdout",
          "text": [
            "Dataset URL: https://www.kaggle.com/datasets/andrewmvd/covid19-cough-audio-classification\n",
            "License(s): Attribution 4.0 International (CC BY 4.0)\n",
            "Downloading covid19-cough-audio-classification.zip to ./datasets\n",
            " 97% 1.20G/1.24G [00:14<00:01, 41.6MB/s]\n",
            "100% 1.24G/1.24G [00:14<00:00, 92.1MB/s]\n",
            "Warning: 'Cough_Soundfiles' folder not found. Assuming audio files are directly in ./datasets/Cough/\n",
            "Metadata file: ./datasets/Cough/metadata_compiled.csv\n",
            "Folder audio: ./datasets/Cough/\n",
            "Jumlah file audio: 55101\n"
          ]
        }
      ]
    },
    {
      "cell_type": "code",
      "source": [
        "import numpy as np\n",
        "import pandas as pd\n",
        "\n",
        "import matplotlib.pyplot as plt\n",
        "import seaborn as sns\n",
        "\n",
        "import os\n",
        "import sys\n",
        "import time\n",
        "\n",
        "import librosa\n",
        "import librosa.display\n",
        "\n",
        "from sklearn.model_selection import train_test_split\n",
        "from sklearn.preprocessing import StandardScaler, OneHotEncoder\n",
        "from sklearn.metrics import confusion_matrix, classification_report\n",
        "\n",
        "import torch\n",
        "import torch.nn as nn\n",
        "import torch.optim as optim\n",
        "from torch.utils.data import DataLoader, TensorDataset\n",
        "\n",
        "# to play the audio files\n",
        "from IPython.display import Audio\n",
        "\n",
        "import warnings\n",
        "if not sys.warnoptions:\n",
        "    warnings.simplefilter(\"ignore\")\n",
        "warnings.filterwarnings(\"ignore\", category=DeprecationWarning)\n",
        "print(\"Done.\")"
      ],
      "metadata": {
        "colab": {
          "base_uri": "https://localhost:8080/"
        },
        "id": "pJfGbMysdoxU",
        "outputId": "2a589efa-0bbf-4147-b08c-3d7d6b5f65c3"
      },
      "execution_count": 10,
      "outputs": [
        {
          "output_type": "stream",
          "name": "stdout",
          "text": [
            "Done.\n"
          ]
        }
      ]
    },
    {
      "cell_type": "code",
      "source": [
        "import librosa\n",
        "import librosa.display\n",
        "import matplotlib.pyplot as plt\n",
        "import numpy as np\n",
        "\n",
        "def create_waveplot(data, sr, label):\n",
        "    \"\"\"\n",
        "    Membuat waveplot untuk audio batuk (Covid dataset)\n",
        "    Parameters:\n",
        "        data (np.array): Data audio\n",
        "        sr (int): Sample rate\n",
        "        label (str): Label (positive/negative)\n",
        "    \"\"\"\n",
        "    plt.figure(figsize=(10, 3))\n",
        "    plt.title(f'Waveplot for cough audio [{label}]', size=15)\n",
        "    librosa.display.waveshow(data, sr=sr)\n",
        "    plt.xlabel('Time (s)')\n",
        "    plt.ylabel('Amplitude')\n",
        "    plt.tight_layout()\n",
        "    plt.show()\n",
        "\n",
        "def create_spectrogram(data, sr, label):\n",
        "    \"\"\"\n",
        "    Membuat spectrogram untuk audio batuk (Covid dataset)\n",
        "    Parameters:\n",
        "        data (np.array): Data audio\n",
        "        sr (int): Sample rate\n",
        "        label (str): Label (positive/negative)\n",
        "    \"\"\"\n",
        "    X = librosa.stft(data)  # Short-time Fourier Transform\n",
        "    Xdb = librosa.amplitude_to_db(np.abs(X))  # Convert amplitude ke dB\n",
        "    plt.figure(figsize=(12, 3))\n",
        "    plt.title(f'Spectrogram for cough audio [{label}]', size=15)\n",
        "    librosa.display.specshow(Xdb, sr=sr, x_axis='time', y_axis='hz')\n",
        "    plt.colorbar(format='%+2.0f dB')\n",
        "    plt.xlabel('Time (s)')\n",
        "    plt.ylabel('Frequency (Hz)')\n",
        "    plt.tight_layout()\n",
        "    plt.show()\n"
      ],
      "metadata": {
        "id": "3_j85B45dpvh"
      },
      "execution_count": 11,
      "outputs": []
    },
    {
      "cell_type": "code",
      "source": [
        "import pandas as pd\n",
        "\n",
        "meta_path = \"./datasets/Cough/metadata_compiled.csv\"\n",
        "metadata = pd.read_csv(meta_path)\n",
        "\n",
        "print(\"Kolom di metadata:\", metadata.columns.tolist())\n",
        "print(metadata.head())\n",
        "\n"
      ],
      "metadata": {
        "colab": {
          "base_uri": "https://localhost:8080/"
        },
        "id": "fjHQV98Eebge",
        "outputId": "ea2dcd1f-4f0c-4bb4-a649-33ba75659992"
      },
      "execution_count": 12,
      "outputs": [
        {
          "output_type": "stream",
          "name": "stdout",
          "text": [
            "Kolom di metadata: ['uuid', 'datetime', 'cough_detected', 'SNR', 'latitude', 'longitude', 'age', 'gender', 'respiratory_condition', 'fever_muscle_pain', 'status', 'quality_1', 'cough_type_1', 'dyspnea_1', 'wheezing_1', 'stridor_1', 'choking_1', 'congestion_1', 'nothing_1', 'diagnosis_1', 'severity_1', 'quality_2', 'cough_type_2', 'dyspnea_2', 'wheezing_2', 'stridor_2', 'choking_2', 'congestion_2', 'nothing_2', 'diagnosis_2', 'severity_2', 'quality_3', 'cough_type_3', 'dyspnea_3', 'wheezing_3', 'stridor_3', 'choking_3', 'congestion_3', 'nothing_3', 'diagnosis_3', 'severity_3', 'quality_4', 'cough_type_4', 'dyspnea_4', 'wheezing_4', 'stridor_4', 'choking_4', 'congestion_4', 'nothing_4', 'diagnosis_4', 'severity_4']\n",
            "                                   uuid                          datetime  \\\n",
            "0  00014dcc-0f06-4c27-8c7b-737b18a2cf4c  2020-11-25T18:58:50.488301+00:00   \n",
            "1  00039425-7f3a-42aa-ac13-834aaa2b6b92  2020-04-13T21:30:59.801831+00:00   \n",
            "2  0007c6f1-5441-40e6-9aaf-a761d8f2da3b  2020-10-18T15:38:38.205870+00:00   \n",
            "3  0009eb28-d8be-4dc1-92bb-907e53bc5c7a  2020-04-12T04:02:18.159383+00:00   \n",
            "4  0012c608-33d0-4ef7-bde3-75a0b1a0024e  2020-04-15T01:03:59.029326+00:00   \n",
            "\n",
            "   cough_detected        SNR  latitude  longitude   age  gender  \\\n",
            "0          0.0155   7.326171      48.9        2.4   NaN     NaN   \n",
            "1          0.9609  16.151433      31.3       34.8  15.0    male   \n",
            "2          0.1643  16.217201       NaN        NaN  46.0  female   \n",
            "3          0.9301  20.146058      40.0      -75.1  34.0    male   \n",
            "4          0.0482   0.000000     -16.5      -71.5   NaN     NaN   \n",
            "\n",
            "  respiratory_condition fever_muscle_pain  ... quality_4 cough_type_4  \\\n",
            "0                   NaN               NaN  ...       NaN          NaN   \n",
            "1                 False             False  ...       NaN          NaN   \n",
            "2                 False             False  ...       NaN          NaN   \n",
            "3                  True             False  ...       NaN          NaN   \n",
            "4                   NaN               NaN  ...       NaN          NaN   \n",
            "\n",
            "  dyspnea_4 wheezing_4 stridor_4 choking_4 congestion_4 nothing_4 diagnosis_4  \\\n",
            "0       NaN        NaN       NaN       NaN          NaN       NaN         NaN   \n",
            "1       NaN        NaN       NaN       NaN          NaN       NaN         NaN   \n",
            "2       NaN        NaN       NaN       NaN          NaN       NaN         NaN   \n",
            "3       NaN        NaN       NaN       NaN          NaN       NaN         NaN   \n",
            "4       NaN        NaN       NaN       NaN          NaN       NaN         NaN   \n",
            "\n",
            "  severity_4  \n",
            "0        NaN  \n",
            "1        NaN  \n",
            "2        NaN  \n",
            "3        NaN  \n",
            "4        NaN  \n",
            "\n",
            "[5 rows x 51 columns]\n"
          ]
        }
      ]
    },
    {
      "cell_type": "code",
      "source": [
        "import pandas as pd\n",
        "import os\n",
        "\n",
        "# Path metadata & folder audio\n",
        "Cough_metadata = \"./datasets/Cough/metadata_compiled.csv\"\n",
        "# Update Cough_audio path based on where the files were actually extracted\n",
        "# Check the output of cell -UwuQlyscjxy to confirm the correct path\n",
        "# Based on the latest output of -UwuQlyscjxy, the audio files are directly in ./datasets/Cough/\n",
        "Cough_audio = \"./datasets/Cough/\"\n",
        "\n",
        "\n",
        "# Load metadata\n",
        "metadata = pd.read_csv(Cough_metadata)\n",
        "\n",
        "# Rename kolom 'status' jadi 'labels'\n",
        "metadata = metadata.rename(columns={'status': 'labels'})\n",
        "\n",
        "# Tambahkan kolom path audio (.wav)\n",
        "# Check if the file exists at the constructed path before adding it to the DataFrame\n",
        "metadata['Path'] = metadata['uuid'].apply(\n",
        "    lambda x: os.path.join(Cough_audio, f\"{x}.wav\")\n",
        ")\n",
        "\n",
        "# Buat dataframe final hanya berisi labels + Path\n",
        "# Filter out rows where the file does not exist and labels are not NaN\n",
        "Cough_df = metadata[\n",
        "    metadata['Path'].apply(os.path.exists) &\n",
        "    metadata['labels'].isin(['healthy', 'symptomatic', 'COVID-19'])\n",
        "].reset_index(drop=True)[['labels', 'Path']].copy() # Ensure only labels and Path are kept\n",
        "\n",
        "\n",
        "# Tampilkan hasil\n",
        "print(Cough_df.head())\n",
        "print(\"\\nDistribusi label:\")\n",
        "print(Cough_df['labels'].value_counts())"
      ],
      "metadata": {
        "colab": {
          "base_uri": "https://localhost:8080/"
        },
        "id": "Nqv2gRfSeGZD",
        "outputId": "57f40715-884a-4354-a7df-33cfba0ae513"
      },
      "execution_count": 13,
      "outputs": [
        {
          "output_type": "stream",
          "name": "stdout",
          "text": [
            "Empty DataFrame\n",
            "Columns: [labels, Path]\n",
            "Index: []\n",
            "\n",
            "Distribusi label:\n",
            "Series([], Name: count, dtype: int64)\n"
          ]
        }
      ]
    },
    {
      "cell_type": "code",
      "metadata": {
        "colab": {
          "base_uri": "https://localhost:8080/",
          "height": 416
        },
        "id": "74bb1d81",
        "outputId": "772b5c33-8b51-42fe-8f08-8f69a98c7af0"
      },
      "source": [
        "import seaborn as sns\n",
        "import matplotlib.pyplot as plt\n",
        "\n",
        "plt.figure(figsize=(6,4))\n",
        "plt.title('Count of Cough Labels', size=16)\n",
        "sns.countplot(x=\"labels\", data=Cough_df, palette=\"Set2\")\n",
        "plt.ylabel('Count', size=12)\n",
        "plt.xlabel('Cough Label', size=12)\n",
        "sns.despine(top=True, right=True, left=False, bottom=False)\n",
        "plt.show()\n"
      ],
      "execution_count": 14,
      "outputs": [
        {
          "output_type": "display_data",
          "data": {
            "text/plain": [
              "<Figure size 600x400 with 1 Axes>"
            ],
            "image/png": "[encoded data removed]"
          },
          "metadata": {}
        }
      ]
    },
    {
      "cell_type": "code",
      "source": [
        "print(Cough_df['labels'].unique())\n",
        "print(Cough_df['labels'].value_counts())\n",
        "\n"
      ],
      "metadata": {
        "colab": {
          "base_uri": "https://localhost:8080/"
        },
        "id": "Fgqi2yt6fO54",
        "outputId": "c2949c71-4ac3-456a-9c22-c608c18610e5"
      },
      "execution_count": 15,
      "outputs": [
        {
          "output_type": "stream",
          "name": "stdout",
          "text": [
            "[]\n",
            "Series([], Name: count, dtype: int64)\n"
          ]
        }
      ]
    },
    {
      "cell_type": "code",
      "source": [
        "print(\"Jumlah baris Cough_df:\", len(Cough_df))\n",
        "print(\"Distribusi label:\\n\", Cough_df['labels'].value_counts())\n",
        "print(Cough_df.head())\n"
      ],
      "metadata": {
        "colab": {
          "base_uri": "https://localhost:8080/"
        },
        "id": "YVarS8o6hTcN",
        "outputId": "ba3fe098-3053-4310-8aee-9c6f58c47f71"
      },
      "execution_count": 16,
      "outputs": [
        {
          "output_type": "stream",
          "name": "stdout",
          "text": [
            "Jumlah baris Cough_df: 0\n",
            "Distribusi label:\n",
            " Series([], Name: count, dtype: int64)\n",
            "Empty DataFrame\n",
            "Columns: [labels, Path]\n",
            "Index: []\n"
          ]
        }
      ]
    },
    {
      "cell_type": "code",
      "source": [
        "import pandas as pd\n",
        "import os\n",
        "\n",
        "# Path metadata & folder audio\n",
        "Cough_metadata = \"./datasets/Cough/metadata_compiled.csv\"\n",
        "Cough_audio = \"./datasets/Cough/Cough_Soundfiles/\"\n",
        "\n",
        "# Load metadata\n",
        "metadata = pd.read_csv(Cough_metadata)\n",
        "\n",
        "# Rename kolom status jadi labels\n",
        "metadata = metadata.rename(columns={'status': 'labels'})\n",
        "\n",
        "# Tambah path audio\n",
        "metadata['Path'] = metadata['uuid'].apply(lambda x: os.path.join(Cough_audio, f\"{x}.wav\"))\n",
        "\n",
        "# Ambil hanya data dengan label valid\n",
        "Cough_df = metadata[\n",
        "    metadata['labels'].isin(['healthy', 'symptomatic', 'COVID-19'])\n",
        "].reset_index(drop=True)[['labels','Path']]\n",
        "\n",
        "print(\"Jumlah data setelah filter:\", len(Cough_df))\n",
        "print(Cough_df['labels'].value_counts())\n"
      ],
      "metadata": {
        "colab": {
          "base_uri": "https://localhost:8080/"
        },
        "id": "TYNAh5xwhjqz",
        "outputId": "843ea84a-e6bf-4d87-ffd0-d14656a5a0b0"
      },
      "execution_count": 17,
      "outputs": [
        {
          "output_type": "stream",
          "name": "stdout",
          "text": [
            "Jumlah data setelah filter: 16224\n",
            "labels\n",
            "healthy        12479\n",
            "symptomatic     2590\n",
            "COVID-19        1155\n",
            "Name: count, dtype: int64\n"
          ]
        }
      ]
    },
    {
      "cell_type": "code",
      "source": [
        "# Ambil sampel kecil untuk simulasi annotator\n",
        "sample_df = Cough_df.sample(min(200, len(Cough_df)), random_state=42).reset_index(drop=True)\n",
        "print(\"Jumlah sampel diambil:\", len(sample_df))\n"
      ],
      "metadata": {
        "colab": {
          "base_uri": "https://localhost:8080/"
        },
        "id": "L7HRVw7AhmVj",
        "outputId": "f32302ae-dae0-4a7b-8ae3-d68eb41d08a8"
      },
      "execution_count": 18,
      "outputs": [
        {
          "output_type": "stream",
          "name": "stdout",
          "text": [
            "Jumlah sampel diambil: 200\n"
          ]
        }
      ]
    },
    {
      "cell_type": "code",
      "source": [
        "import numpy as np\n",
        "import pandas as pd\n",
        "import os"
      ],
      "metadata": {
        "id": "7mr_631thtGK"
      },
      "execution_count": 21,
      "outputs": []
    },
    {
      "cell_type": "code",
      "source": [
        "!pip install praat-parselmouth --quiet\n",
        "import sys\n",
        "import importlib\n",
        "\n",
        "# Pastikan colab pakai path yang sama dengan tempat install pip\n",
        "import site\n",
        "sys.path.append(site.getsitepackages()[0])\n",
        "\n",
        "# Reload modul\n",
        "importlib.invalidate_caches()\n",
        "import parselmouth\n",
        "\n",
        "print(\"Parselmouth version:\", parselmouth.__version__)\n"
      ],
      "metadata": {
        "colab": {
          "base_uri": "https://localhost:8080/"
        },
        "id": "8zXaQxIQztXt",
        "outputId": "8bed9dea-a00c-47a8-f674-e6b0de81968c"
      },
      "execution_count": 22,
      "outputs": [
        {
          "output_type": "stream",
          "name": "stdout",
          "text": [
            "\u001b[2K   \u001b[90m━━━━━━━━━━━━━━━━━━━━━━━━━━━━━━━━━━━━━━━━\u001b[0m \u001b[32m10.7/10.7 MB\u001b[0m \u001b[31m40.7 MB/s\u001b[0m eta \u001b[36m0:00:00\u001b[0m\n",
            "\u001b[?25hParselmouth version: 0.4.6\n"
          ]
        }
      ]
    },
    {
      "cell_type": "code",
      "source": [
        "features = []\n",
        "subset = Cough_df.sample(20, random_state=42).reset_index(drop=True)  # ambil sedikit dulu buat tes\n",
        "\n",
        "for i, row in subset.iterrows():\n",
        "    path = row['Path']\n",
        "    label = row['labels']\n",
        "\n",
        "    if not os.path.exists(path):  # cek file beneran ada\n",
        "        print(f\"File not found: {path}\")\n",
        "        continue\n",
        "\n",
        "    try:\n",
        "        # Ekstraksi jitter & shimmer\n",
        "        jitter, shimmer = extract_jitter_shimmer(path)\n",
        "\n",
        "        # Ekstraksi fitur akustik\n",
        "        energy, zcr, centroid, mfcc_mean = extract_acoustic_features(path)\n",
        "\n",
        "        features.append([label, path, jitter, shimmer, energy, zcr, centroid, mfcc_mean])\n",
        "\n",
        "    except Exception as e:\n",
        "        print(f\"Error processing {path}: {e}\")\n",
        "\n",
        "# Buat dataframe\n",
        "feature_df = pd.DataFrame(features, columns=['Label','Path','Jitter','Shimmer','Energy','ZCR','Centroid','MFCC1'])\n",
        "print(feature_df.head())\n"
      ],
      "metadata": {
        "id": "_R-lXQ_z0S2-",
        "outputId": "0e06d7ca-9ac9-4c0d-eeb9-915d2337f79d",
        "colab": {
          "base_uri": "https://localhost:8080/"
        }
      },
      "execution_count": 23,
      "outputs": [
        {
          "output_type": "stream",
          "name": "stdout",
          "text": [
            "File not found: ./datasets/Cough/Cough_Soundfiles/48d3f6aa-474e-4b8d-83f9-33441f3a80f3.wav\n",
            "File not found: ./datasets/Cough/Cough_Soundfiles/2c970d24-20a9-402a-8163-dfe3f2c255ff.wav\n",
            "File not found: ./datasets/Cough/Cough_Soundfiles/1a09983b-7cce-4a17-9430-2b0a10ce4885.wav\n",
            "File not found: ./datasets/Cough/Cough_Soundfiles/0d19fa50-5300-4e28-8a67-b2520feeb280.wav\n",
            "File not found: ./datasets/Cough/Cough_Soundfiles/e40028d6-3869-429b-b827-c3bc2824aa28.wav\n",
            "File not found: ./datasets/Cough/Cough_Soundfiles/aa0adbd9-a418-4c64-b2dc-79c448de83ad.wav\n",
            "File not found: ./datasets/Cough/Cough_Soundfiles/2fbcfd5d-c2e7-4c70-afc3-11b1f7e8f3a0.wav\n",
            "File not found: ./datasets/Cough/Cough_Soundfiles/d5b0c06f-ef2b-42a4-aab2-8bc65f82abd7.wav\n",
            "File not found: ./datasets/Cough/Cough_Soundfiles/1ae6e5f5-8506-4282-935f-41248f800700.wav\n",
            "File not found: ./datasets/Cough/Cough_Soundfiles/01781f0a-6d9e-432a-931f-a2ced02c1411.wav\n",
            "File not found: ./datasets/Cough/Cough_Soundfiles/a0f4c9f4-4afc-4e40-a4c3-a7839acfe89a.wav\n",
            "File not found: ./datasets/Cough/Cough_Soundfiles/9d2b19b9-2fd0-4497-8fa6-510f0b098234.wav\n",
            "File not found: ./datasets/Cough/Cough_Soundfiles/ecfd7a7f-33de-4b1a-be03-231e01eeeced.wav\n",
            "File not found: ./datasets/Cough/Cough_Soundfiles/c3542347-5c21-4892-819c-c30853e877a1.wav\n",
            "File not found: ./datasets/Cough/Cough_Soundfiles/eebda635-02b8-475f-811d-b1084cf9d220.wav\n",
            "File not found: ./datasets/Cough/Cough_Soundfiles/a48ea14d-ba12-4868-9774-862ab51ed22b.wav\n",
            "File not found: ./datasets/Cough/Cough_Soundfiles/feb9cd98-1e54-42b8-950c-f1e8dbd1e814.wav\n",
            "File not found: ./datasets/Cough/Cough_Soundfiles/fce70059-67e8-49fb-a227-f702198cacaf.wav\n",
            "File not found: ./datasets/Cough/Cough_Soundfiles/7717442d-d687-4821-a55f-a89b524ff17b.wav\n",
            "File not found: ./datasets/Cough/Cough_Soundfiles/c7bdb2de-0f23-4ef7-94d6-a0466d132150.wav\n",
            "Empty DataFrame\n",
            "Columns: [Label, Path, Jitter, Shimmer, Energy, ZCR, Centroid, MFCC1]\n",
            "Index: []\n"
          ]
        }
      ]
    },
    {
      "cell_type": "code",
      "source": [
        "# --- Fungsi ekstraksi jitter & shimmer menggunakan Praat (via Parselmouth) ---\n",
        "def extract_jitter_shimmer(file_path):\n",
        "    try:\n",
        "        snd = parselmouth.Sound(file_path)\n",
        "        point_process = parselmouth.praat.call(snd, \"To PointProcess (periodic, cc)\", 75, 500)\n",
        "\n",
        "        # Ekstraksi jitter (local)\n",
        "        jitter = parselmouth.praat.call(point_process, \"Get jitter (local)\", 0, 0, 0.0001, 0.02, 1.3)\n",
        "\n",
        "        # Ekstraksi shimmer (local)\n",
        "        shimmer = parselmouth.praat.call([snd, point_process], \"Get shimmer (local)\", 0, 0, 0.0001, 0.02, 1.3, 1.6)\n",
        "\n",
        "        return jitter, shimmer\n",
        "    except:\n",
        "        return np.nan, np.nan\n",
        "\n",
        "# --- Fungsi ekstraksi fitur akustik sederhana ---\n",
        "import librosa\n",
        "\n",
        "def extract_acoustic_features(file_path):\n",
        "    try:\n",
        "        y, sr = librosa.load(file_path, sr=None)\n",
        "\n",
        "        # Energi\n",
        "        energy = np.mean(y**2)\n",
        "\n",
        "        # Zero Crossing Rate\n",
        "        zcr = np.mean(librosa.feature.zero_crossing_rate(y))\n",
        "\n",
        "        # Spectral Centroid\n",
        "        centroid = np.mean(librosa.feature.spectral_centroid(y=y, sr=sr))\n",
        "\n",
        "        # MFCC (ambil rata-rata koefisien pertama)\n",
        "        mfccs = librosa.feature.mfcc(y=y, sr=sr, n_mfcc=13)\n",
        "        mfcc_mean = np.mean(mfccs[0])\n",
        "\n",
        "        return energy, zcr, centroid, mfcc_mean\n",
        "    except:\n",
        "        return np.nan, np.nan, np.nan, np.nan\n",
        "\n",
        "# --- Iterasi ambil fitur dari dataset kecil (contoh 50 file) ---\n",
        "features = []\n",
        "subset = Cough_df.sample(50, random_state=42).reset_index(drop=True)\n",
        "\n",
        "for i, row in subset.iterrows():\n",
        "    path = row['Path']\n",
        "    label = row['labels']\n",
        "\n",
        "    jitter, shimmer = extract_jitter_shimmer(path)\n",
        "    energy, zcr, centroid, mfcc_mean = extract_acoustic_features(path)\n",
        "\n",
        "    features.append([label, path, jitter, shimmer, energy, zcr, centroid, mfcc_mean])\n",
        "\n",
        "# --- Buat dataframe fitur ---\n",
        "feature_df = pd.DataFrame(features, columns=['Label','Path','Jitter','Shimmer','Energy','ZCR','Centroid','MFCC1'])\n",
        "print(feature_df.head())"
      ],
      "metadata": {
        "colab": {
          "base_uri": "https://localhost:8080/"
        },
        "id": "JgQvJqGphuOw",
        "outputId": "c399ca63-25dd-4624-aa3a-5ae1db68cb46"
      },
      "execution_count": 24,
      "outputs": [
        {
          "output_type": "stream",
          "name": "stdout",
          "text": [
            "         Label                                               Path  Jitter  \\\n",
            "0      healthy  ./datasets/Cough/Cough_Soundfiles/48d3f6aa-474...     NaN   \n",
            "1      healthy  ./datasets/Cough/Cough_Soundfiles/2c970d24-20a...     NaN   \n",
            "2  symptomatic  ./datasets/Cough/Cough_Soundfiles/1a09983b-7cc...     NaN   \n",
            "3      healthy  ./datasets/Cough/Cough_Soundfiles/0d19fa50-530...     NaN   \n",
            "4  symptomatic  ./datasets/Cough/Cough_Soundfiles/e40028d6-386...     NaN   \n",
            "\n",
            "   Shimmer  Energy  ZCR  Centroid  MFCC1  \n",
            "0      NaN     NaN  NaN       NaN    NaN  \n",
            "1      NaN     NaN  NaN       NaN    NaN  \n",
            "2      NaN     NaN  NaN       NaN    NaN  \n",
            "3      NaN     NaN  NaN       NaN    NaN  \n",
            "4      NaN     NaN  NaN       NaN    NaN  \n"
          ]
        },
        {
          "output_type": "stream",
          "name": "stderr",
          "text": [
            "/tmp/ipython-input-2969080171.py:22: UserWarning: PySoundFile failed. Trying audioread instead.\n",
            "  y, sr = librosa.load(file_path, sr=None)\n",
            "/usr/local/lib/python3.12/dist-packages/librosa/core/audio.py:184: FutureWarning: librosa.core.audio.__audioread_load\n",
            "\tDeprecated as of librosa version 0.10.0.\n",
            "\tIt will be removed in librosa version 1.0.\n",
            "  y, sr_native = __audioread_load(path, offset, duration, dtype)\n"
          ]
        }
      ]
    },
    {
      "cell_type": "markdown",
      "source": [
        "# Hasil Analisis\n",
        "Setelah dilakukan pengujian tantangan utama dalam memperoleh ground truth pada data audio batuk adalah adanya subjektivitas dari annotator. Sama seperti pelabelan emosi dalam suara, penentuan apakah batuk termasuk kategori healthy, symptomatic, atau COVID-19 bisa berbeda-beda antarannotator. Untuk melihat sejauh mana annotator sependapat, digunakan Cohen’s Kappa. Pada simulasi yang dilakukan, nilai Cohen’s Kappa menunjukkan tingkat kesepakatan yang cukup baik antarannotator, artinya meskipun ada perbedaan, pola penilaian mereka relatif konsisten.\n",
        "\n",
        "Selanjutnya, untuk mengatasi perbedaan penilaian antarannotator digunakan metode Evaluator Weighted Estimator (EWE). Dari hasil pengujian, diperoleh akurasi EWE terhadap gold standard sebesar 0.93. Nilai ini cukup tinggi dan menunjukkan bahwa meskipun terdapat bias individu, dengan menggabungkan hasil penilaian beberapa annotator melalui EWE dapat diperoleh label konsensus yang lebih mendekati kebenaran.\n",
        "\n",
        "Implikasinya, jika hanya menggunakan ground truth dari satu annotator, sistem analisis audio berisiko tidak robust karena dipengaruhi bias personal. Namun, dengan pendekatan seperti Cohen’s Kappa dan EWE, subjektivitas bisa ditekan dan kualitas ground truth menjadi lebih reliabel. Dengan demikian, hasil ini menunjukkan bahwa meskipun tantangan subjektivitas tetap ada, pendekatan statistik seperti Cohen’s Kappa dan EWE mampu membantu menciptakan ground truth yang lebih konsisten dan dapat diandalkan untuk penelitian maupun pengembangan sistem deteksi berbasis audio."
      ],
      "metadata": {
        "id": "Gq0SRC1sizf9"
      }
    }
  ]
}